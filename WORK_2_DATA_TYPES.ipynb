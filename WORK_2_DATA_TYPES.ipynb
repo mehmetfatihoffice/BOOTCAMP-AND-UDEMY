{
 "cells": [
  {
   "cell_type": "markdown",
   "metadata": {},
   "source": [
    "# mehmetfatihoffice"
   ]
  },
  {
   "cell_type": "code",
   "execution_count": 1,
   "metadata": {
    "scrolled": true
   },
   "outputs": [
    {
     "name": "stdin",
     "output_type": "stream",
     "text": [
      "Tatil Günlerini Giriniz: 12\n"
     ]
    },
    {
     "name": "stdout",
     "output_type": "stream",
     "text": [
      "WorkingDays= ['çarşamba', 'perşembe', 'cuma', 'cumartesi', 'pazar']\n"
     ]
    }
   ],
   "source": [
    "günler={\"1\":\"pazartesi\",\n",
    "        \"2\":\"sali\",\n",
    "        \"3\":\"çarşamba\",\n",
    "        \"4\":\"perşembe\",\n",
    "        \"5\":\"cuma\",\n",
    "        \"6\":\"cumartesi\",\n",
    "        \"7\":\"pazar\"}\n",
    "tatil=input(\"Tatil Günlerini Giriniz:\")\n",
    "del günler[tatil[0]]\n",
    "del günler[tatil[1]]\n",
    "print(\"WorkingDays=\", list(günler.values()))"
   ]
  },
  {
   "cell_type": "code",
   "execution_count": 2,
   "metadata": {},
   "outputs": [
    {
     "name": "stdout",
     "output_type": "stream",
     "text": [
      "{'Ocak': 31, 'Şubat': 28, 'Mart': 31, 'Nisan': 30, 'Mayıs': 31, 'Haziran': 30, 'Temmuz': 31, 'Ağustos': 31, 'Eylül': 30, 'Ekim': 31, 'Kasım': 30, 'Aralık': 31}\n"
     ]
    }
   ],
   "source": [
    "aybilgisi = {'Ocak':31,'Şubat':28, 'Mart':31, 'Nisan':30, 'Mayıs':31, 'Haziran':30, 'Temmuz':31, \n",
    "         'Ağustos':31, 'Eylül':30, 'Ekim':31, 'Kasım':30, 'Aralık':31}\n",
    "print(aybilgisi)"
   ]
  },
  {
   "cell_type": "code",
   "execution_count": 3,
   "metadata": {},
   "outputs": [],
   "source": [
    "aylarlist=list(aybilgisi.items())"
   ]
  },
  {
   "cell_type": "code",
   "execution_count": 4,
   "metadata": {},
   "outputs": [
    {
     "name": "stdout",
     "output_type": "stream",
     "text": [
      "Aylar: ['Ocak', 'Şubat', 'Mart', 'Nisan', 'Mayıs', 'Haziran', 'Temmuz', 'Ağustos', 'Eylül', 'Ekim', 'Kasım', 'Aralık'] \n",
      "\n",
      "Günler: [31, 28, 31, 30, 31, 30, 31, 31, 30, 31, 30, 31] \n",
      "\n"
     ]
    }
   ],
   "source": [
    "aylist=list(aybilgisi.keys())\n",
    "print(\"Aylar:\", aylist,'\\n')\n",
    "günlist=list(aybilgisi.values())\n",
    "print(\"Günler:\", günlist,'\\n')"
   ]
  },
  {
   "cell_type": "code",
   "execution_count": 5,
   "metadata": {
    "scrolled": true
   },
   "outputs": [
    {
     "data": {
      "text/plain": [
       "['Ocak',\n",
       " 'Şubat',\n",
       " 'Mart',\n",
       " 'Nisan',\n",
       " 'Mayıs',\n",
       " 'Haziran',\n",
       " 'Temmuz',\n",
       " 'Ağustos',\n",
       " 'Eylül',\n",
       " 'Ekim',\n",
       " 'Kasım',\n",
       " 'Aralık']"
      ]
     },
     "execution_count": 5,
     "metadata": {},
     "output_type": "execute_result"
    }
   ],
   "source": [
    "aylist"
   ]
  },
  {
   "cell_type": "code",
   "execution_count": 6,
   "metadata": {
    "scrolled": true
   },
   "outputs": [
    {
     "name": "stdout",
     "output_type": "stream",
     "text": [
      "(['Mart', 'Nisan', 'Mayıs'], ['Haziran', 'Temmuz', 'Ağustos'], ['Eylül', 'Ekim', 'Kasım'], ['Aralık', 'Ocak', 'Şubat'])\n"
     ]
    }
   ],
   "source": [
    "ilkbahar = aylist[2:5]\n",
    "yaz = aylist[5:8]\n",
    "sonbahar = aylist[8:11]\n",
    "kış = ['Aralık','Ocak','Şubat']\n",
    "mevsim_ayları = aylist[0:12] \n",
    "mevsimler= (ilkbahar, yaz, sonbahar, kış)\n",
    "print(mevsimler)"
   ]
  },
  {
   "cell_type": "code",
   "execution_count": 7,
   "metadata": {},
   "outputs": [
    {
     "data": {
      "text/plain": [
       "92"
      ]
     },
     "execution_count": 7,
     "metadata": {},
     "output_type": "execute_result"
    }
   ],
   "source": [
    "aybilgisi[mevsimler[0][0]]+aybilgisi[mevsimler[0][1]]+aybilgisi[mevsimler[0][2]]"
   ]
  },
  {
   "cell_type": "markdown",
   "metadata": {},
   "source": [
    "END."
   ]
  }
 ],
 "metadata": {
  "kernelspec": {
   "display_name": "Python 3",
   "language": "python",
   "name": "python3"
  },
  "language_info": {
   "codemirror_mode": {
    "name": "ipython",
    "version": 3
   },
   "file_extension": ".py",
   "mimetype": "text/x-python",
   "name": "python",
   "nbconvert_exporter": "python",
   "pygments_lexer": "ipython3",
   "version": "3.7.4"
  }
 },
 "nbformat": 4,
 "nbformat_minor": 4
}
