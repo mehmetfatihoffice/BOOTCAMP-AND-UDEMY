{
 "cells": [
  {
   "cell_type": "markdown",
   "metadata": {},
   "source": [
    "# mehmetfatihoffice"
   ]
  },
  {
   "cell_type": "markdown",
   "metadata": {},
   "source": [
    "# SORU 1"
   ]
  },
  {
   "cell_type": "code",
   "execution_count": 12,
   "metadata": {},
   "outputs": [
    {
     "name": "stdin",
     "output_type": "stream",
     "text": [
      "Bir sıcaklık değeri giriniz!(Ör:30C, 86F): 264f\n"
     ]
    },
    {
     "name": "stdout",
     "output_type": "stream",
     "text": [
      "128 C\n"
     ]
    }
   ],
   "source": [
    "sıcaklık = input (\"Bir sıcaklık değeri giriniz!(Ör:30C, 86F):\")\n",
    "if sıcaklık[-1].upper() == \"C\" :\n",
    "    print (int(int(sıcaklık[0:-1])*9/5+32), \"F\")\n",
    "elif sıcaklık[-1].upper() == \"F\" :\n",
    "    print (int((int(sıcaklık[0:-1])-32)*5/9), \"C\")\n",
    "else :\n",
    "    sıcaklık = input (\"Bir sıcaklık değeri giriniz!(Ör:30C, 86F):\")"
   ]
  },
  {
   "cell_type": "code",
   "execution_count": 14,
   "metadata": {},
   "outputs": [
    {
     "name": "stdout",
     "output_type": "stream",
     "text": [
      "Choose a Base Weather Station\n",
      "Enter the corresponding station number\n"
     ]
    },
    {
     "name": "stdin",
     "output_type": "stream",
     "text": [
      "Enter a number from: 1 to 10 12\n"
     ]
    },
    {
     "name": "stdout",
     "output_type": "stream",
     "text": [
      "You have made an error. Please chose a number from 1 to 10\n"
     ]
    },
    {
     "name": "stdin",
     "output_type": "stream",
     "text": [
      "Enter a number from: 1 to 10 3\n"
     ]
    },
    {
     "name": "stdout",
     "output_type": "stream",
     "text": [
      "You have selected Karratha Station as your base station\n"
     ]
    }
   ],
   "source": [
    "base_stations = {1: 'Karratha Aero', 2: 'Dampier Salt', 3: 'Karratha Station', 4: 'Roebourne Aero', 5: 'Roebourne', 6: 'Cossack', 7: 'Warambie', 8: 'Pyramid Station', 9: 'Eramurra Pool', 10: 'Sherlock'}\n",
    "print ('Choose a Base Weather Station')\n",
    "print ('Enter the corresponding station number')\n",
    "while True:\n",
    "    selection = int(input('Enter a number from: 1 to 10'))\n",
    "    if selection in base_stations:\n",
    "        print('You have selected {station} as your base station'.format(\n",
    "              station=base_stations[selection]))\n",
    "        break\n",
    "    else:\n",
    "        print (\"You have made an error. Please chose a number from 1 to 10\")"
   ]
  },
  {
   "cell_type": "markdown",
   "metadata": {},
   "source": [
    "# SORU 2"
   ]
  },
  {
   "cell_type": "code",
   "execution_count": 15,
   "metadata": {},
   "outputs": [
    {
     "name": "stdin",
     "output_type": "stream",
     "text": [
      "bir kelime giriniz: restart\n"
     ]
    },
    {
     "name": "stdout",
     "output_type": "stream",
     "text": [
      "tratser\n"
     ]
    }
   ],
   "source": [
    "inputwords = input (\"bir kelime giriniz:\")\n",
    " \n",
    "print (inputwords[::-1])"
   ]
  },
  {
   "cell_type": "markdown",
   "metadata": {},
   "source": [
    "# SORU 3"
   ]
  },
  {
   "cell_type": "code",
   "execution_count": 16,
   "metadata": {},
   "outputs": [
    {
     "name": "stdout",
     "output_type": "stream",
     "text": [
      "[1, 1, 2, 3, 5, 8, 13, 21, 34]\n"
     ]
    }
   ],
   "source": [
    "f1 = 1\n",
    "f2 = 1\n",
    "x = f1 + f2\n",
    "liste = [f1, f2]\n",
    "while x< 51:\n",
    "    fi1 = f1\n",
    "    fi2 = f2\n",
    "    f1 = fi2\n",
    "    f2 = fi1 + fi2\n",
    "    liste.append(f2)\n",
    "    x += fi2\n",
    "print (liste)"
   ]
  },
  {
   "cell_type": "code",
   "execution_count": 17,
   "metadata": {},
   "outputs": [
    {
     "name": "stdout",
     "output_type": "stream",
     "text": [
      "[1, 1, 2, 3, 5, 8, 13, 21, 34]\n"
     ]
    }
   ],
   "source": [
    "liste = [1,1]\n",
    "while liste[-1]+liste[-2]<50 :\n",
    "    liste.append(liste[-1]+liste[-2])\n",
    "print (liste)"
   ]
  },
  {
   "cell_type": "markdown",
   "metadata": {},
   "source": [
    "# SORU 4"
   ]
  },
  {
   "cell_type": "code",
   "execution_count": 18,
   "metadata": {},
   "outputs": [
    {
     "name": "stdin",
     "output_type": "stream",
     "text": [
      "Bir sayı giriniz: 15\n"
     ]
    },
    {
     "name": "stdout",
     "output_type": "stream",
     "text": [
      "15 X 1 = 15\n",
      "15 X 2 = 30\n",
      "15 X 3 = 45\n",
      "15 X 4 = 60\n",
      "15 X 5 = 75\n",
      "15 X 6 = 90\n",
      "15 X 7 = 105\n",
      "15 X 8 = 120\n",
      "15 X 9 = 135\n",
      "15 X 10 = 150\n"
     ]
    }
   ],
   "source": [
    "sayi = input (\"Bir sayı giriniz:\")\n",
    "for a in range(1,11):\n",
    "    b=a*int(sayi)\n",
    "    print (sayi,\"X\",a ,\"=\",b)"
   ]
  },
  {
   "cell_type": "markdown",
   "metadata": {},
   "source": [
    "# SORU 5"
   ]
  },
  {
   "cell_type": "code",
   "execution_count": 19,
   "metadata": {},
   "outputs": [
    {
     "name": "stdout",
     "output_type": "stream",
     "text": [
      "[1, 4, 27, 16, 125, 36, 343, 64, 729, 100, 1331, 144, 2197, 196, 3375, 256, 4913, 324, 6859]\n"
     ]
    }
   ],
   "source": [
    "liste = []###1'den 20'ye kadar sayılara ait liste\n",
    "for r in range (1,20):\n",
    "    if r%2 == 0 :\n",
    "        liste.append(r**2)\n",
    "    else :\n",
    "        liste.append(r**3)\n",
    "print (liste)"
   ]
  },
  {
   "cell_type": "code",
   "execution_count": 20,
   "metadata": {},
   "outputs": [
    {
     "name": "stdout",
     "output_type": "stream",
     "text": [
      "[1, 4, 27, 16, 125, 36, 343, 64, 729, 100, 1331, 144, 2197, 196, 3375, 256, 4913, 324, 6859]\n"
     ]
    }
   ],
   "source": [
    "print([x**2 if x%2 == 0 else x**3 for x in range (1,20)])\n"
   ]
  },
  {
   "cell_type": "markdown",
   "metadata": {},
   "source": [
    "END."
   ]
  }
 ],
 "metadata": {
  "kernelspec": {
   "display_name": "Python 3",
   "language": "python",
   "name": "python3"
  },
  "language_info": {
   "codemirror_mode": {
    "name": "ipython",
    "version": 3
   },
   "file_extension": ".py",
   "mimetype": "text/x-python",
   "name": "python",
   "nbconvert_exporter": "python",
   "pygments_lexer": "ipython3",
   "version": "3.7.4"
  }
 },
 "nbformat": 4,
 "nbformat_minor": 4
}
