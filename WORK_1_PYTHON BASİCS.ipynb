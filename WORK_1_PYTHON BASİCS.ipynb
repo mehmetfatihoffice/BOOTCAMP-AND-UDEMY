{
 "cells": [
  {
   "cell_type": "markdown",
   "metadata": {},
   "source": [
    "# mehmetfatihoffice"
   ]
  },
  {
   "cell_type": "code",
   "execution_count": 1,
   "metadata": {},
   "outputs": [
    {
     "name": "stdin",
     "output_type": "stream",
     "text": [
      "BİTCOİN YATIRIMINIZ NE KADAR?: 1000\n",
      "BİTCOİN YATIRIMINIZI KAÇ GÜN SÜRE İLE YAPACAKSINIZ?: 7\n"
     ]
    },
    {
     "name": "stdout",
     "output_type": "stream",
     "text": [
      "1000 dolar miktarındaki yatırımınızı 7 süre ile yapacağınıza dair işlemleri başlatıyoruz.\n"
     ]
    }
   ],
   "source": [
    "anapara = input (\"BİTCOİN YATIRIMINIZ NE KADAR?:\")\n",
    "yatırımsüresi = input (\"BİTCOİN YATIRIMINIZI KAÇ GÜN SÜRE İLE YAPACAKSINIZ?:\")\n",
    "print (\"{} dolar miktarındaki yatırımınızı {} süre ile yapacağınıza dair işlemleri başlatıyoruz.\".format(anapara, yatırımsüresi))"
   ]
  },
  {
   "cell_type": "code",
   "execution_count": 2,
   "metadata": {},
   "outputs": [
    {
     "name": "stdout",
     "output_type": "stream",
     "text": [
      "TOPLAM ELİNİZDEKİ PARA MİKTARI : $ 2210.6814074060812 $ DOLAR\n",
      "KAZANÇ: 1210.68 DOLARDIR.\n"
     ]
    }
   ],
   "source": [
    "print (\"TOPLAM ELİNİZDEKİ PARA MİKTARI :\" , int(anapara) * (1.12** int (yatırımsüresi)) , \"DOLAR\" , sep=\" $ \")\n",
    "KAZANÇ = int(anapara) * (1.12** int (yatırımsüresi))- int (anapara)\n",
    "print(\"KAZANÇ: {:.2f} DOLARDIR.\".format(KAZANÇ) , sep=\" $ \")#güle güle harcamak nasip olur umarım. "
   ]
  },
  {
   "cell_type": "code",
   "execution_count": 3,
   "metadata": {},
   "outputs": [
    {
     "name": "stdout",
     "output_type": "stream",
     "text": [
      "\"Hafta başında 1000 dolarlık bitcoin aldığımızda günde ortalama yüzde 12 kazançla, \n",
      "7 gün sonunda 1210.68 dolar kazanırdık.\n"
     ]
    }
   ],
   "source": [
    "kazanç = int(anapara) * (1.12** int (yatırımsüresi))- int (anapara)\n",
    "oran = 12\n",
    "metin = \"\"\"\"Hafta başında {} dolarlık bitcoin aldığımızda günde ortalama yüzde {} kazançla, \n",
    "{} gün sonunda {:.2f} dolar kazanırdık.\"\"\"\n",
    "print(metin.format(anapara , oran , yatırımsüresi , kazanç ))"
   ]
  },
  {
   "cell_type": "code",
   "execution_count": 4,
   "metadata": {},
   "outputs": [
    {
     "name": "stdin",
     "output_type": "stream",
     "text": [
      "LÜTFEN DOSYA ADI GİRİNİZ: working\n"
     ]
    },
    {
     "name": "stdout",
     "output_type": "stream",
     "text": [
      "working.py\n"
     ]
    }
   ],
   "source": [
    "ad = input (\"LÜTFEN DOSYA ADI GİRİNİZ:\")\n",
    "print (ad,\".py\", sep=\"\")"
   ]
  },
  {
   "cell_type": "markdown",
   "metadata": {},
   "source": [
    "END."
   ]
  }
 ],
 "metadata": {
  "kernelspec": {
   "display_name": "Python 3",
   "language": "python",
   "name": "python3"
  },
  "language_info": {
   "codemirror_mode": {
    "name": "ipython",
    "version": 3
   },
   "file_extension": ".py",
   "mimetype": "text/x-python",
   "name": "python",
   "nbconvert_exporter": "python",
   "pygments_lexer": "ipython3",
   "version": "3.7.4"
  }
 },
 "nbformat": 4,
 "nbformat_minor": 4
}
