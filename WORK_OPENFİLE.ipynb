{
 "cells": [
  {
   "cell_type": "markdown",
   "metadata": {},
   "source": [
    "# mehmetfatihoffice"
   ]
  },
  {
   "cell_type": "markdown",
   "metadata": {},
   "source": [
    "## 1. SORU"
   ]
  },
  {
   "cell_type": "code",
   "execution_count": 1,
   "metadata": {},
   "outputs": [
    {
     "name": "stdout",
     "output_type": "stream",
     "text": [
      "Lambayı yakma, bırak,\n",
      "sarı bir insan başı\n",
      "düşmesin pencereden kara.\n",
      "Kar yağıyor karanlıklara.\n",
      "Kar yağıyor ve ben hatırlıyorum.\n",
      "Kar...\n",
      "Üflenen bir mum gibi söndü koskocaman ışıklar...\n",
      "Ve şehir kör bir insan gibi kaldı\n",
      "altında yağan karın.\n",
      "Lambayı yakma, bırak!\n",
      "Kalbe bir bıçak gibi giren hatıraların\n",
      "dilsiz olduklarını anlıyorum.\n",
      "Kar yağıyor\n",
      "ve ben hatırlıyorum.\n"
     ]
    }
   ],
   "source": [
    "with open(\"dataset/kar.txt\", \"r\", encoding='utf8') as f:\n",
    "    line=f.read() \n",
    "print (line)"
   ]
  },
  {
   "cell_type": "code",
   "execution_count": 3,
   "metadata": {
    "scrolled": true
   },
   "outputs": [
    {
     "name": "stdout",
     "output_type": "stream",
     "text": [
      "14\n"
     ]
    }
   ],
   "source": [
    "with open(\"dataset/kar.txt\", \"r\", encoding='utf8') as f:\n",
    "    dizeler = f.readlines()\n",
    "print(len(dizeler))"
   ]
  },
  {
   "cell_type": "code",
   "execution_count": 4,
   "metadata": {
    "scrolled": true
   },
   "outputs": [
    {
     "name": "stdout",
     "output_type": "stream",
     "text": [
      "['Lambayı yakma, bırak,\\n', 'sarı bir insan başı\\n', 'düşmesin pencereden kara.\\n', 'Kar yağıyor karanlıklara.\\n', 'Kar yağıyor ve ben hatırlıyorum.\\n', 'Kar...\\n', 'Üflenen bir mum gibi söndü koskocaman ışıklar...\\n', 'Ve şehir kör bir insan gibi kaldı\\n', 'altında yağan karın.\\n', 'Lambayı yakma, bırak!\\n', 'Kalbe bir bıçak gibi giren hatıraların\\n', 'dilsiz olduklarını anlıyorum.\\n', 'Kar yağıyor\\n', 've ben hatırlıyorum.']\n"
     ]
    }
   ],
   "source": [
    "with open(\"dataset/kar.txt\", \"r\", encoding='utf8') as f:\n",
    "    dizeler = f.readlines()\n",
    "    print(dizeler)"
   ]
  },
  {
   "cell_type": "code",
   "execution_count": 5,
   "metadata": {},
   "outputs": [
    {
     "name": "stdout",
     "output_type": "stream",
     "text": [
      "Lambayı sarı düşmesin Kar Kar Kar... Üflenen Ve altında Lambayı Kalbe dilsiz Kar ve "
     ]
    }
   ],
   "source": [
    "with open(\"dataset/yeni_şiir\",'w', encoding='utf8') as f: \n",
    "    for x in range (len(dizeler)) :\n",
    "        yeni_dize = (dizeler[x].split()[0])\n",
    "        f.write(yeni_dize)\n",
    "        print(yeni_dize,end=\" \")"
   ]
  },
  {
   "cell_type": "markdown",
   "metadata": {},
   "source": [
    "## 2. SORU"
   ]
  },
  {
   "cell_type": "code",
   "execution_count": 6,
   "metadata": {},
   "outputs": [
    {
     "name": "stdin",
     "output_type": "stream",
     "text": [
      "asal olduğunu öğrenmek istediğiniz sayı: 23\n"
     ]
    },
    {
     "name": "stdout",
     "output_type": "stream",
     "text": [
      "Sayınız Asaldır.\n"
     ]
    }
   ],
   "source": [
    "def asal_mi(x):\n",
    "    if x<=2:\n",
    "        print (\"Sayınız Asaldır.\")\n",
    "        return True\n",
    "    elif x>2:\n",
    "        asalmi=True\n",
    "        for y in range (2,x):\n",
    "            if x%y==0 :\n",
    "                asalmi=False\n",
    "                return False\n",
    "    if asalmi==True :\n",
    "        print(\"Sayınız Asaldır.\")\n",
    "    elif asalmi==False:\n",
    "        print(\"Sayınız Asal Değildir\")\n",
    "        \n",
    "asal_mi(int(input(\"asal olduğunu öğrenmek istediğiniz sayı:\")))"
   ]
  },
  {
   "cell_type": "markdown",
   "metadata": {},
   "source": [
    "## 3.SORU"
   ]
  },
  {
   "cell_type": "code",
   "execution_count": 7,
   "metadata": {},
   "outputs": [
    {
     "name": "stdout",
     "output_type": "stream",
     "text": [
      "[1, 2, 3, 4]\n"
     ]
    }
   ],
   "source": [
    "def yeni (x) :\n",
    "    return list(dict.fromkeys(x))\n",
    "liste = yeni ([1,2,2,3,3,4,4])\n",
    "print (liste)"
   ]
  },
  {
   "cell_type": "code",
   "execution_count": 8,
   "metadata": {},
   "outputs": [],
   "source": [
    "birinci_liste = [1,2,2,3,3,4,4]\n",
    "def yeni (x) :\n",
    "    ikinci_liste = [] \n",
    "    \n",
    "    for eleman in x :\n",
    "        if eleman not in ikinci_liste :\n",
    "            ikinci_liste.append(eleman)\n",
    "    return ikinci_liste"
   ]
  },
  {
   "cell_type": "code",
   "execution_count": 9,
   "metadata": {},
   "outputs": [
    {
     "data": {
      "text/plain": [
       "[1, 2, 3, 4]"
      ]
     },
     "execution_count": 9,
     "metadata": {},
     "output_type": "execute_result"
    }
   ],
   "source": [
    "yeni(birinci_liste)"
   ]
  },
  {
   "cell_type": "markdown",
   "metadata": {},
   "source": [
    "## 4. SORU"
   ]
  },
  {
   "cell_type": "code",
   "execution_count": 10,
   "metadata": {},
   "outputs": [
    {
     "data": {
      "text/plain": [
       "37"
      ]
     },
     "execution_count": 10,
     "metadata": {},
     "output_type": "execute_result"
    }
   ],
   "source": [
    "from datetime import date\n",
    "\n",
    "def calculate_age(born):\n",
    "    today = date.today()\n",
    "    return today.year - born.year - ((today.month, today.day) < (born.month, born.day))\n",
    "dob = date(1982, 12, 5)\n",
    "calculate_age(dob)"
   ]
  },
  {
   "cell_type": "markdown",
   "metadata": {},
   "source": [
    "BİTTİ. "
   ]
  }
 ],
 "metadata": {
  "kernelspec": {
   "display_name": "Python 3",
   "language": "python",
   "name": "python3"
  },
  "language_info": {
   "codemirror_mode": {
    "name": "ipython",
    "version": 3
   },
   "file_extension": ".py",
   "mimetype": "text/x-python",
   "name": "python",
   "nbconvert_exporter": "python",
   "pygments_lexer": "ipython3",
   "version": "3.7.4"
  }
 },
 "nbformat": 4,
 "nbformat_minor": 4
}
