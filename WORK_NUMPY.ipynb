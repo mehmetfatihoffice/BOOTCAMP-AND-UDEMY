{
 "cells": [
  {
   "cell_type": "markdown",
   "metadata": {},
   "source": [
    "## mehmetfatihoffice"
   ]
  },
  {
   "cell_type": "markdown",
   "metadata": {},
   "source": [
    "## 1.\n"
   ]
  },
  {
   "cell_type": "code",
   "execution_count": 1,
   "metadata": {},
   "outputs": [],
   "source": [
    "import numpy as np"
   ]
  },
  {
   "cell_type": "code",
   "execution_count": 2,
   "metadata": {},
   "outputs": [
    {
     "name": "stdout",
     "output_type": "stream",
     "text": [
      "[[  0   2   4   6   8  10  12  14  16  18]\n",
      " [ 20  22  24  26  28  30  32  34  36  38]\n",
      " [ 40  42  44  46  48  50  52  54  56  58]\n",
      " [ 60  62  64  66  68  70  72  74  76  78]\n",
      " [ 80  82  84  86  88  90  92  94  96  98]\n",
      " [100 102 104 106 108 110 112 114 116 118]\n",
      " [120 122 124 126 128 130 132 134 136 138]\n",
      " [140 142 144 146 148 150 152 154 156 158]\n",
      " [160 162 164 166 168 170 172 174 176 178]\n",
      " [180 182 184 186 188 190 192 194 196 198]]\n"
     ]
    }
   ],
   "source": [
    "cıft_dizi = np.arange(0,200,2).reshape(10,10)\n",
    "print(cıft_dizi)"
   ]
  },
  {
   "cell_type": "markdown",
   "metadata": {},
   "source": [
    "## 2.\n"
   ]
  },
  {
   "cell_type": "code",
   "execution_count": 3,
   "metadata": {
    "scrolled": true
   },
   "outputs": [
    {
     "name": "stdin",
     "output_type": "stream",
     "text": [
      "satır: 8\n",
      "kolon: 8\n"
     ]
    },
    {
     "name": "stdout",
     "output_type": "stream",
     "text": [
      "[[1. 1. 1. 1. 1. 1. 1. 1.]\n",
      " [1. 0. 0. 0. 0. 0. 0. 1.]\n",
      " [1. 0. 0. 0. 0. 0. 0. 1.]\n",
      " [1. 0. 0. 0. 0. 0. 0. 1.]\n",
      " [1. 0. 0. 0. 0. 0. 0. 1.]\n",
      " [1. 0. 0. 0. 0. 0. 0. 1.]\n",
      " [1. 0. 0. 0. 0. 0. 0. 1.]\n",
      " [1. 1. 1. 1. 1. 1. 1. 1.]]\n"
     ]
    }
   ],
   "source": [
    "s =input (\"satır:\")\n",
    "k =input (\"kolon:\")\n",
    "dizi = np.ones((int(s),int(k)))\n",
    "dizi[1:-1, 1:-1] = [0]\n",
    "print (dizi)"
   ]
  },
  {
   "cell_type": "code",
   "execution_count": 4,
   "metadata": {},
   "outputs": [],
   "source": [
    "one=np.ones((8,8))\n"
   ]
  },
  {
   "cell_type": "markdown",
   "metadata": {},
   "source": [
    "END. "
   ]
  }
 ],
 "metadata": {
  "kernelspec": {
   "display_name": "Python 3",
   "language": "python",
   "name": "python3"
  },
  "language_info": {
   "codemirror_mode": {
    "name": "ipython",
    "version": 3
   },
   "file_extension": ".py",
   "mimetype": "text/x-python",
   "name": "python",
   "nbconvert_exporter": "python",
   "pygments_lexer": "ipython3",
   "version": "3.7.4"
  }
 },
 "nbformat": 4,
 "nbformat_minor": 4
}
